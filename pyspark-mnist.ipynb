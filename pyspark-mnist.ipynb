{
 "cells": [
  {
   "cell_type": "markdown",
   "id": "18582cd7-6d6f-4310-ac7c-a55f22e1f529",
   "metadata": {},
   "source": [
    "# Pyspark MNIST example"
   ]
  },
  {
   "cell_type": "markdown",
   "id": "ef716376-452e-42ee-a694-0dd11b99e1da",
   "metadata": {},
   "source": [
    "### Based on https://github.com/abulbasar/pyspark-examples"
   ]
  },
  {
   "cell_type": "code",
   "execution_count": null,
   "id": "ab281f4c-0ae6-4e0f-be08-a92abe7943e3",
   "metadata": {},
   "outputs": [],
   "source": []
  },
  {
   "cell_type": "code",
   "execution_count": null,
   "id": "8eba0e99-f305-4f15-b631-0caedd9475f5",
   "metadata": {},
   "outputs": [],
   "source": [
    "import findspark\n",
    "findspark.init()\n",
    "import os\n",
    "os.environ[\"CUDA_VISIBLE_DEVICES\"] = \"1\"\n",
    "import pyspark\n",
    "from pyspark.sql import SQLContext, SparkSession\n",
    "spark = SparkSession \\\n",
    "        .builder \\\n",
    "        .master('spark://Tux:7077') \\\n",
    "        .appName(\"sparkFromJupyter\") \\\n",
    "        .getOrCreate()\n",
    "sqlContext = SQLContext(sparkContext=spark.sparkContext, sparkSession=spark)\n",
    "sc=spark.sparkContext\n",
    "print(\"Spark Version: \" + spark.version)\n",
    "print(\"PySpark Version: \" + pyspark.__version__)"
   ]
  },
  {
   "cell_type": "code",
   "execution_count": null,
   "id": "775c326e-8b72-475c-abfd-c0555510a2b5",
   "metadata": {},
   "outputs": [],
   "source": []
  },
  {
   "cell_type": "code",
   "execution_count": null,
   "id": "ab464d4b-40cc-46ae-9cd6-13e797ec792d",
   "metadata": {},
   "outputs": [],
   "source": [
    "spark.sparkContext.uiWebUrl"
   ]
  },
  {
   "cell_type": "code",
   "execution_count": null,
   "id": "22e4be2a-bee6-4e94-ba3d-c3e296f1ddc1",
   "metadata": {},
   "outputs": [],
   "source": [
    "import matplotlib.pyplot as plt\n",
    "import pandas as pd\n",
    "\n",
    "%matplotlib inline"
   ]
  },
  {
   "cell_type": "code",
   "execution_count": null,
   "id": "6cf8755e-47c0-409f-a90f-617b2f7d22b2",
   "metadata": {},
   "outputs": [],
   "source": [
    "df_training = (spark\n",
    "               .read\n",
    "               .options(header = False, inferSchema = True)\n",
    "               .csv(\"./data/mnist_train.csv\"))"
   ]
  },
  {
   "cell_type": "code",
   "execution_count": null,
   "id": "5257e4c5-9390-4d16-86ce-4539ac474e95",
   "metadata": {},
   "outputs": [],
   "source": [
    "df_training.printSchema()"
   ]
  },
  {
   "cell_type": "code",
   "execution_count": null,
   "id": "63aaa3db-9a8f-4223-9ed6-147621e14b86",
   "metadata": {},
   "outputs": [],
   "source": [
    "df_training.count()"
   ]
  },
  {
   "cell_type": "code",
   "execution_count": null,
   "id": "6470ba3d-1c43-4fa4-9931-a1c4d79f18ac",
   "metadata": {},
   "outputs": [],
   "source": [
    "df_training.take(1)"
   ]
  },
  {
   "cell_type": "code",
   "execution_count": null,
   "id": "058ffae5-5cd6-4e24-afbf-90094445ae2f",
   "metadata": {},
   "outputs": [],
   "source": [
    "print(\"No of columns: \", len(df_training.columns), df_training.columns)\n"
   ]
  },
  {
   "cell_type": "code",
   "execution_count": null,
   "id": "b5942bb8-73ab-4309-a32c-adb8ff284d32",
   "metadata": {},
   "outputs": [],
   "source": [
    "feature_culumns = [\"_c\" + str(i+1) for i in range(784)]\n",
    "#print(feature_culumns)"
   ]
  },
  {
   "cell_type": "code",
   "execution_count": null,
   "id": "4efa5799-6846-4e44-9322-df051feb9076",
   "metadata": {},
   "outputs": [],
   "source": [
    "from pyspark.ml.feature import VectorAssembler"
   ]
  },
  {
   "cell_type": "code",
   "execution_count": null,
   "id": "058f4a7e-3aea-4eb3-b584-1a95a1d0dd58",
   "metadata": {},
   "outputs": [],
   "source": [
    "vectorizer = VectorAssembler(inputCols=feature_culumns, outputCol=\"features\")\n",
    "training = (vectorizer\n",
    "            .transform(df_training)\n",
    "            .select(\"_c0\", \"features\")\n",
    "            .toDF(\"label\", \"features\")\n",
    "            .cache())\n",
    "training.show()"
   ]
  },
  {
   "cell_type": "code",
   "execution_count": null,
   "id": "bce514f8-7f79-4d59-a86c-f54af6e99566",
   "metadata": {},
   "outputs": [],
   "source": [
    "a = training.first().features.toArray()\n",
    "type(a)"
   ]
  },
  {
   "cell_type": "code",
   "execution_count": null,
   "id": "b6b00ae0-39d7-4e21-b3a1-221f5e02f987",
   "metadata": {},
   "outputs": [],
   "source": [
    "plt.imshow(a.reshape(28, 28), cmap=\"Greys\")"
   ]
  },
  {
   "cell_type": "code",
   "execution_count": null,
   "id": "9d748692-7018-46e0-bf07-982e5e5d1dad",
   "metadata": {},
   "outputs": [],
   "source": [
    "images = training.sample(False, 0.01, 1).take(25)\n",
    "fig, _ = plt.subplots(5, 5, figsize = (10, 10))\n",
    "for i, ax in enumerate(fig.axes):\n",
    "    r = images[i]\n",
    "    label = r.label\n",
    "    features = r.features\n",
    "    ax.imshow(features.toArray().reshape(28, 28), cmap = \"Greys\")\n",
    "    ax.set_title(\"True: \" + str(label))\n",
    "\n",
    "plt.tight_layout()\n",
    "    "
   ]
  },
  {
   "cell_type": "code",
   "execution_count": null,
   "id": "e2d55ea5-c735-4e91-b824-cc8dc5d73466",
   "metadata": {},
   "outputs": [],
   "source": [
    "counts = training.groupBy(\"label\").count()"
   ]
  },
  {
   "cell_type": "code",
   "execution_count": null,
   "id": "a10a6126-7b9c-4528-81b6-ec22fd8a2a9e",
   "metadata": {},
   "outputs": [],
   "source": [
    "counts_df = counts.rdd.map(lambda r: {\"label\": r['label'], \n",
    "                                     \"count\": r['count']}).collect()\n",
    "pd.DataFrame(counts_df).set_index(\"label\").sort_index().plot.bar()"
   ]
  },
  {
   "cell_type": "code",
   "execution_count": null,
   "id": "c01051b1-a4c9-4548-b903-c5ccd1e15842",
   "metadata": {},
   "outputs": [],
   "source": [
    "df_testing = (spark\n",
    "              .read\n",
    "              .options(header = False, inferSchema = True)\n",
    "              .csv(\"data/mnist_test.csv\"))\n",
    "testing = (vectorizer\n",
    "           .transform(df_testing)\n",
    "           .select(\"_c0\", \"features\")\n",
    "           .toDF(\"label\", \"features\")\n",
    "           .cache())"
   ]
  },
  {
   "cell_type": "code",
   "execution_count": null,
   "id": "80c4fd93-b535-425a-8c6a-b80982aed6e4",
   "metadata": {},
   "outputs": [],
   "source": [
    "from pyspark.ml.classification import LogisticRegression"
   ]
  },
  {
   "cell_type": "code",
   "execution_count": null,
   "id": "5d7c7182-4f0a-4060-bac4-4228e7f40338",
   "metadata": {},
   "outputs": [],
   "source": [
    "lr = LogisticRegression(featuresCol=\"features\", \n",
    "                        labelCol=\"label\", \n",
    "                        regParam=0.1, \n",
    "                        elasticNetParam=0.1, \n",
    "                        maxIter=10000)"
   ]
  },
  {
   "cell_type": "code",
   "execution_count": null,
   "id": "39f7ab06-940d-4ec7-9f83-28989c6fa370",
   "metadata": {},
   "outputs": [],
   "source": [
    "lr_model = lr.fit(training)"
   ]
  },
  {
   "cell_type": "code",
   "execution_count": null,
   "id": "f11aef41-9010-4eac-b4e3-84695a177ec8",
   "metadata": {},
   "outputs": [],
   "source": [
    "from pyspark.sql.functions import *"
   ]
  },
  {
   "cell_type": "code",
   "execution_count": null,
   "id": "64ec183d-f005-4df6-9e63-78620905c9b2",
   "metadata": {},
   "outputs": [],
   "source": [
    "test_pred = lr_model.transform(testing).withColumn(\"matched\", expr(\"label == prediction\"))\n",
    "test_pred.show()"
   ]
  },
  {
   "cell_type": "code",
   "execution_count": null,
   "id": "040a3caf-b318-4287-8f63-8f85b13e2fa1",
   "metadata": {},
   "outputs": [],
   "source": [
    "from pyspark.ml.evaluation import MulticlassClassificationEvaluator"
   ]
  },
  {
   "cell_type": "code",
   "execution_count": null,
   "id": "1ef6c12c-c53f-485f-be36-aaab7cd6e88e",
   "metadata": {},
   "outputs": [],
   "source": [
    "evaluator = MulticlassClassificationEvaluator(labelCol=\"label\", \n",
    "                                               predictionCol=\"prediction\", \n",
    "                                               metricName=\"accuracy\")"
   ]
  },
  {
   "cell_type": "code",
   "execution_count": null,
   "id": "2195b961-50e4-4466-a0f6-26fe658c97c9",
   "metadata": {},
   "outputs": [],
   "source": [
    "evaluator.evaluate(test_pred)"
   ]
  },
  {
   "cell_type": "code",
   "execution_count": null,
   "id": "82ef8df0-1aa2-4770-9bfc-c9075cd46dea",
   "metadata": {},
   "outputs": [],
   "source": []
  },
  {
   "cell_type": "code",
   "execution_count": null,
   "id": "8763e5d3-e32c-4744-b9e6-2ae16939e9a7",
   "metadata": {},
   "outputs": [],
   "source": [
    "(test_pred\n",
    " .withColumn(\"matched\", expr(\"cast(matched as int)\"))\n",
    " .groupby(\"label\")\n",
    " .agg(avg(\"matched\"))\n",
    " .orderBy(\"label\")\n",
    " .show())"
   ]
  },
  {
   "cell_type": "code",
   "execution_count": null,
   "id": "6507fc55-3914-49a4-8a59-455d935b7368",
   "metadata": {},
   "outputs": [],
   "source": [
    "from pyspark.ml.classification import MultilayerPerceptronClassifier"
   ]
  },
  {
   "cell_type": "code",
   "execution_count": null,
   "id": "6bdada00-3bfb-4a19-bb6e-382e1b7d7a3c",
   "metadata": {},
   "outputs": [],
   "source": [
    "layers = [784, 100, 20, 10]\n",
    "perceptron = MultilayerPerceptronClassifier(maxIter=1000, layers=layers, blockSize=128, seed=1234)\n",
    "perceptron_model = perceptron.fit(training)"
   ]
  },
  {
   "cell_type": "code",
   "execution_count": null,
   "id": "2a485b0c-23f2-4d91-a5e2-b2d270ec2f82",
   "metadata": {},
   "outputs": [],
   "source": [
    "from time import time"
   ]
  },
  {
   "cell_type": "code",
   "execution_count": null,
   "id": "3b15c2ff-47f2-41d6-b810-614b806ba81d",
   "metadata": {},
   "outputs": [],
   "source": [
    "start_time = time()\n",
    "perceptron_model = perceptron.fit(training)\n",
    "test_pred = perceptron_model.transform(testing)\n",
    "print(\"Accuracy:\", evaluator.evaluate(test_pred))\n",
    "print(\"Time taken: %d\" % (time() - start_time))"
   ]
  },
  {
   "cell_type": "code",
   "execution_count": null,
   "id": "7afaff6b-ab2f-4073-8f01-98ec9a7ae74e",
   "metadata": {},
   "outputs": [],
   "source": []
  }
 ],
 "metadata": {
  "kernelspec": {
   "display_name": "Python 3 (ipykernel)",
   "language": "python",
   "name": "python3"
  },
  "language_info": {
   "codemirror_mode": {
    "name": "ipython",
    "version": 3
   },
   "file_extension": ".py",
   "mimetype": "text/x-python",
   "name": "python",
   "nbconvert_exporter": "python",
   "pygments_lexer": "ipython3",
   "version": "3.7.15"
  }
 },
 "nbformat": 4,
 "nbformat_minor": 5
}
